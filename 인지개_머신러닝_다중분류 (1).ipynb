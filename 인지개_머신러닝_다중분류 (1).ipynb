{
  "cells": [
    {
      "cell_type": "markdown",
      "source": [
        "# Library Import"
      ],
      "metadata": {
        "id": "ezlSkXPsUzeI"
      },
      "id": "ezlSkXPsUzeI"
    },
    {
      "cell_type": "code",
      "execution_count": null,
      "id": "8dd55078-3076-4f89-b495-dfd08bbcf8c7",
      "metadata": {
        "tags": [],
        "id": "8dd55078-3076-4f89-b495-dfd08bbcf8c7"
      },
      "outputs": [],
      "source": [
        "import os\n",
        "import numpy as np\n",
        "import pandas as pd\n",
        "import matplotlib.pyplot as plt\n",
        "import matplotlib.image as mpimg\n",
        "\n",
        "import tensorflow as tf\n",
        "from tensorflow import keras\n",
        "from PIL import Image\n",
        "import glob\n",
        "from sklearn.model_selection import train_test_split\n",
        "\n"
      ]
    },
    {
      "cell_type": "markdown",
      "source": [
        "# Image Loading"
      ],
      "metadata": {
        "id": "ZpNaeLhYVIwc"
      },
      "id": "ZpNaeLhYVIwc"
    },
    {
      "cell_type": "code",
      "execution_count": null,
      "id": "040af962-292e-4f54-ae9b-cef37b20ab83",
      "metadata": {
        "tags": [],
        "id": "040af962-292e-4f54-ae9b-cef37b20ab83"
      },
      "outputs": [],
      "source": [
        "import glob\n",
        "from PIL import Image\n",
        "import numpy as np\n",
        "from sklearn.model_selection import train_test_split\n",
        "\n",
        "# 데이터 디렉토리 설정\n",
        "data_dir = 'C:/Users/tjxod/Downloads/Garbageclassification1212-20230517T021521Z-001'\n",
        "\n",
        "# 클래스 레이블 정의\n",
        "labels = ['cardboard', 'glass', 'metal', 'paper', 'plastic', 'trash']\n",
        "\n",
        "# 데이터와 레이블을 저장할 리스트 초기화\n",
        "X = []\n",
        "Y = []\n",
        "\n",
        "# 각 클래스에 대해 반복하여 데이터와 레이블 생성\n",
        "for idx, j in enumerate(labels):\n",
        "    label = [0] * 6\n",
        "    label[idx] = 1\n",
        "    image_dir = data_dir + \"/\" + j\n",
        "    files = glob.glob(image_dir + \"/*.jpg\")\n",
        "    for f in files:\n",
        "        img = Image.open(f) \n",
        "        img = img.convert(\"RGB\")\n",
        "        img = img.resize((64, 64))\n",
        "        data = np.asarray(img)\n",
        "        X.append(data)\n",
        "        Y.append(label)\n",
        "\n",
        "# 리스트를 넘파이 배열로 변환\n",
        "X = np.array(X)\n",
        "Y = np.array(Y)\n",
        "\n",
        "print(len(X))\n",
        "\n",
        "# 데이터를 훈련 세트와 테스트 세트로 분할\n",
        "X_train, X_test, y_train, y_test = train_test_split(X, Y, test_size=0.2, random_state=2023, shuffle=True)"
      ]
    },
    {
      "cell_type": "code",
      "execution_count": null,
      "id": "235c9854-1f61-49cd-81db-7bc32204aaa3",
      "metadata": {
        "tags": [],
        "colab": {
          "base_uri": "https://localhost:8080/"
        },
        "id": "235c9854-1f61-49cd-81db-7bc32204aaa3",
        "outputId": "914cc9c6-da6e-469c-885f-7341615fabbc"
      },
      "outputs": [
        {
          "output_type": "stream",
          "name": "stdout",
          "text": [
            "(2021, 64, 64, 3)\n",
            "(2021, 6)\n",
            "(array([0, 1]), array([10105,  2021]))\n"
          ]
        }
      ],
      "source": [
        "import numpy as np\n",
        "print(X_train.shape)\n",
        "print(y_train.shape)\n",
        "print(np.unique(y_train,return_counts = True))"
      ]
    },
    {
      "cell_type": "markdown",
      "source": [
        "# Rescaling & Resize"
      ],
      "metadata": {
        "id": "o9m__dmnUi28"
      },
      "id": "o9m__dmnUi28"
    },
    {
      "cell_type": "code",
      "execution_count": null,
      "id": "34b2d5a3-40a8-472a-a411-e26c3a9235ca",
      "metadata": {
        "tags": [],
        "colab": {
          "base_uri": "https://localhost:8080/"
        },
        "id": "34b2d5a3-40a8-472a-a411-e26c3a9235ca",
        "outputId": "1f1db2ba-fae8-48ba-baeb-4818dca7a64f"
      },
      "outputs": [
        {
          "output_type": "stream",
          "name": "stdout",
          "text": [
            "(2021, 12288)\n"
          ]
        }
      ],
      "source": [
        "# 훈련 데이터 스케일링 및 형태 변환\n",
        "train_scaled = X_train / 255.0\n",
        "train_scaled = train_scaled.reshape(-1, 64 * 64 * 3)\n",
        "print(train_scaled.shape)"
      ]
    },
    {
      "cell_type": "code",
      "execution_count": null,
      "id": "8e9a9730",
      "metadata": {
        "id": "8e9a9730"
      },
      "outputs": [],
      "source": [
        "# 테스트 데이터 스케일링 및 형태 변환\n",
        "test_scaled = X_test / 255.0\n",
        "test_scaled = test_scaled.reshape(-1,64*64*3)"
      ]
    },
    {
      "cell_type": "markdown",
      "source": [
        "# Data Labeling"
      ],
      "metadata": {
        "id": "Y4-rs0EWVPMe"
      },
      "id": "Y4-rs0EWVPMe"
    },
    {
      "cell_type": "code",
      "execution_count": null,
      "id": "216c8765-deb3-4572-8431-9372158dc85d",
      "metadata": {
        "tags": [],
        "id": "216c8765-deb3-4572-8431-9372158dc85d"
      },
      "outputs": [],
      "source": [
        "Z_train =[]\n",
        "for i in range(len(y_train)):\n",
        "    if (y_train[i] == [1, 0, 0, 0, 0, 0]).all():\n",
        "        Z_train.append(0)\n",
        "    elif (y_train[i] == [0, 1, 0, 0, 0, 0]).all():\n",
        "        Z_train.append(1)\n",
        "    elif (y_train[i] == [0, 0, 1, 0, 0, 0]).all():\n",
        "        Z_train.append(2)\n",
        "    elif (y_train[i] == [0, 0, 0, 1, 0, 0]).all():\n",
        "        Z_train.append(3)\n",
        "    elif (y_train[i] == [0, 0, 0, 0, 1, 0]).all():\n",
        "        Z_train.append(4)\n",
        "    elif (y_train[i] == [0, 0, 0, 0, 0, 1]).all():\n",
        "        Z_train.append(5)\n"
      ]
    },
    {
      "cell_type": "code",
      "execution_count": null,
      "id": "d1443754",
      "metadata": {
        "id": "d1443754"
      },
      "outputs": [],
      "source": [
        "Z_test =[]\n",
        "for i in range(len(y_test)):\n",
        "    if (y_test[i] == [1, 0, 0, 0, 0, 0]).all():\n",
        "        Z_test.append(0)\n",
        "    elif (y_test[i] == [0, 1, 0, 0, 0, 0]).all():\n",
        "        Z_test.append(1)\n",
        "    elif (y_test[i] == [0, 0, 1, 0, 0, 0]).all():\n",
        "        Z_test.append(2)\n",
        "    elif (y_test[i] == [0, 0, 0, 1, 0, 0]).all():\n",
        "        Z_test.append(3)\n",
        "    elif (y_test[i] == [0, 0, 0, 0, 1, 0]).all():\n",
        "        Z_test.append(4)\n",
        "    elif (y_test[i] == [0, 0, 0, 0, 0, 1]).all():\n",
        "        Z_test.append(5)"
      ]
    },
    {
      "cell_type": "markdown",
      "source": [
        "# Decision Tree: Train_score = 100% | Test_score = 48.8%"
      ],
      "metadata": {
        "id": "vm0QVDcuS-K2"
      },
      "id": "vm0QVDcuS-K2"
    },
    {
      "cell_type": "code",
      "execution_count": null,
      "id": "a6aa05b1-64e2-4d4b-914e-45f9184742fd",
      "metadata": {
        "colab": {
          "base_uri": "https://localhost:8080/"
        },
        "id": "a6aa05b1-64e2-4d4b-914e-45f9184742fd",
        "outputId": "0647a5db-9367-4f19-cf07-a9934773f5bc"
      },
      "outputs": [
        {
          "output_type": "stream",
          "name": "stdout",
          "text": [
            "0.9995051954477981\n",
            "0.48221343873517786\n"
          ]
        }
      ],
      "source": [
        "from sklearn.tree import DecisionTreeClassifier\n",
        "dt = DecisionTreeClassifier(random_state=42)\n",
        "dt.fit(train_scaled,Z_train)\n",
        "print(dt.score(train_scaled, Z_train))\n",
        "print(dt.score(test_scaled, Z_test))"
      ]
    },
    {
      "cell_type": "markdown",
      "source": [
        "# Ridge model:"
      ],
      "metadata": {
        "id": "qr8HnU6HTfbG"
      },
      "id": "qr8HnU6HTfbG"
    },
    {
      "cell_type": "code",
      "execution_count": null,
      "id": "b34483c1-dfe8-450f-a7a2-2ef95e78444a",
      "metadata": {
        "colab": {
          "base_uri": "https://localhost:8080/",
          "height": 449
        },
        "id": "b34483c1-dfe8-450f-a7a2-2ef95e78444a",
        "outputId": "5316cad3-bcbc-446e-acd9-16e54ed79d85"
      },
      "outputs": [
        {
          "output_type": "display_data",
          "data": {
            "text/plain": [
              "<Figure size 640x480 with 1 Axes>"
            ],
            "image/png": "[encoded data removed]"
          },
          "metadata": {}
        }
      ],
      "source": [
        "from sklearn.linear_model import Ridge\n",
        "\n",
        "alpha = np.logspace(-3, 2, 6)\n",
        "train_score = []\n",
        "test_score = []\n",
        "\n",
        "\n",
        "# alpha 값은 -3부터 2까지 로그 스케일로 생성됩니다\n",
        "\n",
        "alpha = np.logspace(-3, 2, 6)\n",
        "\n",
        "# 각 alpha 값에 대해 훈련 점수와 테스트 점수를 저장할 리스트를 초기화합니다\n",
        "train_score = []\n",
        "test_score = []\n",
        "\n",
        "# 각 alpha 값에 대해 Ridge 회귀 모델을 생성하고 학습합니다\n",
        "for a in alpha:\n",
        "    # 현재 alpha 값을 사용하여 Ridge 회귀 모델을 생성합니다\n",
        "    ridge = Ridge(alpha=a)\n",
        "    \n",
        "    # 훈련 데이터에 모델을 학습시킵니다\n",
        "    ridge.fit(train_scaled, Z_train)\n",
        "    \n",
        "    # 훈련 데이터에 대한 R^2 점수를 계산하고 train_score 리스트에 추가합니다\n",
        "    train_score.append(ridge.score(train_scaled, Z_train))\n",
        "    \n",
        "    # 테스트 데이터에 대한 R^2 점수를 계산하고 test_score 리스트에 추가합니다\n",
        "    test_score.append(ridge.score(test_scaled, Z_test))\n",
        "\n",
        "# alpha 값에 따른 훈련 점수와 테스트 점수를 그래프로 시각화합니다\n",
        "plt.plot(np.log10(alpha), train_score, label='훈련 점수')\n",
        "plt.plot(np.log10(alpha), test_score, label='테스트 점수')\n",
        "plt.xlabel('log(alpha)')\n",
        "plt.ylabel('R^2')\n",
        "plt.legend()\n",
        "plt.show()"
      ]
    },
    {
      "cell_type": "markdown",
      "source": [
        "# Logistic Regression: Train_score = 100% | Test_score = 41.5%"
      ],
      "metadata": {
        "id": "gRfDevJDSXbG"
      },
      "id": "gRfDevJDSXbG"
    },
    {
      "cell_type": "code",
      "execution_count": null,
      "id": "5bf9da21",
      "metadata": {
        "colab": {
          "base_uri": "https://localhost:8080/"
        },
        "id": "5bf9da21",
        "outputId": "8d1609ff-f0e5-4210-aedb-bbd4237a1ba9"
      },
      "outputs": [
        {
          "output_type": "stream",
          "name": "stderr",
          "text": [
            "/usr/local/lib/python3.10/dist-packages/sklearn/linear_model/_logistic.py:458: ConvergenceWarning: lbfgs failed to converge (status=1):\n",
            "STOP: TOTAL NO. of ITERATIONS REACHED LIMIT.\n",
            "\n",
            "Increase the number of iterations (max_iter) or scale the data as shown in:\n",
            "    https://scikit-learn.org/stable/modules/preprocessing.html\n",
            "Please also refer to the documentation for alternative solver options:\n",
            "    https://scikit-learn.org/stable/modules/linear_model.html#logistic-regression\n",
            "  n_iter_i = _check_optimize_result(\n"
          ]
        },
        {
          "output_type": "stream",
          "name": "stdout",
          "text": [
            "0.9995051954477981\n",
            "\n",
            "0.4150197628458498\n",
            "[4 4 5 1 5 1 1 4 4 2 4 1 3 0 0 5 4 0 4 2 0 3 0 3 5 4 4 2 0 4 4 3 3 3 1 0 4\n",
            " 0 3 1 1 1 2 0 4 5 3 0 4 2 0 4 1 1 2 2 4 5 5 4 3 1 4 4 2 3 3 3 1 1 0 4 1 1\n",
            " 3 3 3 0 1 4 3 0 4 1 3 1 4 0 3 0 2 1 2 0 3 1 0 4 4 0]\n"
          ]
        }
      ],
      "source": [
        "from sklearn.linear_model import LogisticRegression\n",
        "\n",
        "# Logistic Regression 모델을 생성합니다\n",
        "# C는 규제 강도를 조절하는 매개변수로, 작을수록 강한 규제를 의미합니다\n",
        "# max_iter는 최대 반복 횟수를 의미합니다\n",
        "lr = LogisticRegression(C=20, max_iter=1000)\n",
        "\n",
        "# Logistic Regression 모델을 훈련 데이터에 맞춥니다\n",
        "lr.fit(train_scaled, Z_train)\n",
        "\n",
        "# 훈련 데이터에 대한 정확도를 계산하여 출력합니다\n",
        "train_accuracy = lr.score(train_scaled, Z_train)\n",
        "print(\"훈련 데이터 정확도:\", train_accuracy)\n",
        "print()\n",
        "\n",
        "# 테스트 데이터에 대한 정확도를 계산하여 출력합니다\n",
        "test_accuracy = lr.score(test_scaled, Z_test)\n",
        "print(\"테스트 데이터 정확도:\", test_accuracy)\n",
        "print()\n",
        "\n",
        "# 테스트 데이터의 첫 100개 샘플에 대해 예측 결과를 출력합니다\n",
        "predictions = lr.predict(test_scaled[:100])\n",
        "print(\"예측 결과:\", predictions)"
      ]
    },
    {
      "cell_type": "markdown",
      "source": [
        "# XGBOOST: Train_score = 100% | Test_score = 69.24%"
      ],
      "metadata": {
        "id": "9xdu09CoSx9E"
      },
      "id": "9xdu09CoSx9E"
    },
    {
      "cell_type": "code",
      "execution_count": null,
      "id": "ee85ac68",
      "metadata": {
        "id": "ee85ac68",
        "outputId": "62da430d-dbb8-461d-b6b7-26b46b147f66"
      },
      "outputs": [
        {
          "name": "stdout",
          "output_type": "stream",
          "text": [
            "0\n",
            "Training Accuracy:  1.0\n",
            "Test Accuracy:  0.6924603174603174\n"
          ]
        }
      ],
      "source": [
        "import xgboost as xgb\n",
        "\n",
        "# XGBoost 모델을 생성합니다\n",
        "xgb_model = xgb.XGBClassifier(\n",
        "    objective='multi:softmax',  # 다중 클래스 분류를 위해 'multi:softmax' objective를 선택합니다\n",
        "    num_class=6,  # 클래스 개수를 지정합니다\n",
        "    eta=0.1,  # 학습률을 설정합니다\n",
        "    max_depth=6,  # 트리의 최대 깊이를 설정합니다\n",
        "    min_child_weight=1,  # 리프 노드를 추가로 나눌 때 필요한 최소 가중치 합을 설정합니다\n",
        "    subsample=0.8,  # 훈련 데이터의 샘플링 비율을 설정합니다\n",
        "    colsample_bytree=0.8  # 각 트리를 구성하는 특성의 비율을 설정합니다\n",
        ")\n",
        "\n",
        "# XGBoost 모델을 훈련 데이터에 맞춥니다\n",
        "xgb_model.fit(train_scaled, Z_train)\n",
        "\n",
        "# 훈련 데이터에 대한 정확도를 계산하여 출력합니다\n",
        "train_accuracy = xgb_model.score(train_scaled, Z_train)\n",
        "print(\"훈련 데이터 정확도:\", train_accuracy)\n",
        "\n",
        "# 테스트 데이터에 대한 정확도를 계산하여 출력합니다\n",
        "test_accuracy = xgb_model.score(test_scaled, Z_test)\n",
        "print(\"테스트 데이터 정확도:\", test_accuracy)"
      ]
    },
    {
      "cell_type": "code",
      "source": [],
      "metadata": {
        "id": "-XVUn1m2zLlO"
      },
      "id": "-XVUn1m2zLlO",
      "execution_count": null,
      "outputs": []
    },
    {
      "cell_type": "markdown",
      "source": [
        "# Random Forest: Train_score = 100% | Test_score = 68.6%"
      ],
      "metadata": {
        "id": "6z4sp9UzQHha"
      },
      "id": "6z4sp9UzQHha"
    },
    {
      "cell_type": "code",
      "execution_count": null,
      "id": "6d663759",
      "metadata": {
        "id": "6d663759",
        "outputId": "dec890cb-da68-4907-83e0-27318f06b9e3"
      },
      "outputs": [
        {
          "name": "stdout",
          "output_type": "stream",
          "text": [
            "1.0 0.6860412577311952\n"
          ]
        }
      ],
      "source": [
        "from sklearn.ensemble import RandomForestClassifier\n",
        "rf = RandomForestClassifier(n_jobs=-1, random_state=42)\n",
        "\n",
        "scores = cross_validate(rf, train_scaled,Z_train, return_train_score=True, n_jobs=-1)\n",
        "\n",
        "print(np.mean(scores['train_score']), np.mean(scores['test_score']))"
      ]
    },
    {
      "cell_type": "markdown",
      "source": [
        "# SVM: Train_score = 100% | Test_score = 60%"
      ],
      "metadata": {
        "id": "XqvrP6WrR55f"
      },
      "id": "XqvrP6WrR55f"
    },
    {
      "cell_type": "code",
      "execution_count": null,
      "id": "c002a5fe",
      "metadata": {
        "id": "c002a5fe"
      },
      "outputs": [],
      "source": [
        "from sklearn.metrics import accuracy_score\n",
        "from sklearn.svm import SVC\n",
        "svm = SVC()\n",
        "svm.fit(train_scaled, Z_train)\n",
        "print(svm.score(train_scaled, Z_train))\n",
        "print()\n",
        "print(svm.score(test_scaled, Z_test))\n",
        "print(svm.predict(test_scaled[:100]))"
      ]
    }
  ],
  "metadata": {
    "kernelspec": {
      "display_name": "Python 3 (ipykernel)",
      "language": "python",
      "name": "python3"
    },
    "language_info": {
      "codemirror_mode": {
        "name": "ipython",
        "version": 3
      },
      "file_extension": ".py",
      "mimetype": "text/x-python",
      "name": "python",
      "nbconvert_exporter": "python",
      "pygments_lexer": "ipython3",
      "version": "3.10.9"
    },
    "colab": {
      "provenance": []
    }
  },
  "nbformat": 4,
  "nbformat_minor": 5
}